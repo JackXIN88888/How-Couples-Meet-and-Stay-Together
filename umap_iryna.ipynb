{
 "cells": [
  {
   "cell_type": "code",
   "execution_count": 1,
   "metadata": {},
   "outputs": [],
   "source": [
    "import pyreadstat\n",
    "import pandas as pd\n",
    "import matplotlib.pyplot as plt\n",
    "%matplotlib inline\n",
    "import umap.umap_ as umap\n"
   ]
  },
  {
   "cell_type": "code",
   "execution_count": 2,
   "metadata": {},
   "outputs": [
    {
     "data": {
      "text/plain": [
       "<bound method NDFrame.head of       CaseID  CASEID_NEW  qflag  weight1  weight1_freqwt  weight2  weight1a  \\\n",
       "0          2     2014039      1      NaN             NaN   0.8945       NaN   \n",
       "1          3     2019003      1   0.9078         71115.0      NaN    0.9026   \n",
       "2          5     2145527      1   0.7205         56442.0      NaN    0.7164   \n",
       "3          6     2648857      1   1.2597         98682.0   1.3507    1.2524   \n",
       "4          7     2623465      1   0.8686         68044.0      NaN    0.8636   \n",
       "...      ...         ...    ...      ...             ...      ...       ...   \n",
       "3505    4304     1228389      1      NaN             NaN   0.6463       NaN   \n",
       "3506    4305     2480357      1      NaN             NaN   1.1856       NaN   \n",
       "3507    4307     2090075      1      NaN             NaN   0.7724       NaN   \n",
       "3508    4309     2914837      1      NaN             NaN   0.6082       NaN   \n",
       "3509    4311     2747613      1      NaN             NaN   0.5909       NaN   \n",
       "\n",
       "      weight1a_freqwt  weight_combo  weight_combo_freqwt  ...  \\\n",
       "0                 NaN      0.277188              19240.0  ...   \n",
       "1             70707.0      1.020621              70841.0  ...   \n",
       "2             56121.0      0.810074              56227.0  ...   \n",
       "3             98110.0      0.418556              29052.0  ...   \n",
       "4             67652.0      0.976522              67781.0  ...   \n",
       "...               ...           ...                  ...  ...   \n",
       "3505              NaN      0.200276              13901.0  ...   \n",
       "3506              NaN      0.367395              25501.0  ...   \n",
       "3507              NaN      0.239352              16613.0  ...   \n",
       "3508              NaN      0.188469              13082.0  ...   \n",
       "3509              NaN      0.183109              12710.0  ...   \n",
       "\n",
       "      hcm2017q24_met_through_family  hcm2017q24_met_through_friend  \\\n",
       "0                                 0                              0   \n",
       "1                                 0                              0   \n",
       "2                                 0                              0   \n",
       "3                                 0                              0   \n",
       "4                                 0                              0   \n",
       "...                             ...                            ...   \n",
       "3505                              0                              0   \n",
       "3506                              1                              1   \n",
       "3507                              0                              0   \n",
       "3508                              0                              0   \n",
       "3509                              0                              0   \n",
       "\n",
       "      hcm2017q24_met_through_as_nghbrs  hcm2017q24_met_as_through_cowork  \\\n",
       "0                                    0                                 0   \n",
       "1                                    0                                 1   \n",
       "2                                    0                                 0   \n",
       "3                                    0                                 0   \n",
       "4                                    1                                 0   \n",
       "...                                ...                               ...   \n",
       "3505                                 0                                 0   \n",
       "3506                                 0                                 0   \n",
       "3507                                 0                                 0   \n",
       "3508                                 0                                 0   \n",
       "3509                                 0                                 0   \n",
       "\n",
       "      w6_subject_race interracial_5cat partner_mother_yrsed  \\\n",
       "0                 1.0                0                 12.0   \n",
       "1                 1.0                0                 12.0   \n",
       "2                 1.0                0                  9.0   \n",
       "3                 1.0                0                 16.0   \n",
       "4                 1.0                0                 14.0   \n",
       "...               ...              ...                  ...   \n",
       "3505              1.0                0                 12.0   \n",
       "3506              1.0                0                 16.0   \n",
       "3507              1.0                1                 14.0   \n",
       "3508              1.0                1                 12.0   \n",
       "3509              1.0                0                 20.0   \n",
       "\n",
       "     subject_mother_yrsed partner_yrsed subject_yrsed  \n",
       "0                    14.0          12.0          14.0  \n",
       "1                    16.0          17.0          17.0  \n",
       "2                     7.5          14.0          17.0  \n",
       "3                    12.0          12.0          12.0  \n",
       "4                    17.0          16.0          16.0  \n",
       "...                   ...           ...           ...  \n",
       "3505                 12.0          16.0          17.0  \n",
       "3506                 17.0          16.0          16.0  \n",
       "3507                 16.0          16.0          16.0  \n",
       "3508                 13.0          17.0          17.0  \n",
       "3509                  2.5          12.0          16.0  \n",
       "\n",
       "[3510 rows x 285 columns]>"
      ]
     },
     "execution_count": 2,
     "metadata": {},
     "output_type": "execute_result"
    }
   ],
   "source": [
    " #open file\n",
    "dtafile = '/home/iryna/Documents/OK_ Cupid/HCMST 2017 fresh sample for public sharing draft v1.1.dta'\n",
    "df, meta = pyreadstat.read_dta(dtafile)\n",
    "df.head"
   ]
  },
  {
   "cell_type": "code",
   "execution_count": 3,
   "metadata": {},
   "outputs": [],
   "source": [
    "#replace NaN to 0\n",
    "df = df.fillna(0)"
   ]
  },
  {
   "cell_type": "code",
   "execution_count": 10,
   "metadata": {},
   "outputs": [],
   "source": [
    "#use UMAP\n",
    "embedding = umap.UMAP(n_neighbors=30).fit_transform(df)"
   ]
  },
  {
   "cell_type": "code",
   "execution_count": 11,
   "metadata": {},
   "outputs": [
    {
     "name": "stderr",
     "output_type": "stream",
     "text": [
      "/tmp/ipykernel_7348/758713517.py:2: UserWarning: No data for colormapping provided via 'c'. Parameters 'cmap' will be ignored\n",
      "  plt.scatter(embedding[:, 0], embedding[:, 1], cmap='Spectral')\n"
     ]
    },
    {
     "data": {
      "text/plain": [
       "<matplotlib.collections.PathCollection at 0x7f80a3915960>"
      ]
     },
     "execution_count": 11,
     "metadata": {},
     "output_type": "execute_result"
    },
    {
     "data": {
      "image/png": "[encoded data removed]",
      "text/plain": [
       "<Figure size 640x480 with 1 Axes>"
      ]
     },
     "metadata": {},
     "output_type": "display_data"
    }
   ],
   "source": [
    "#visualization with matplotlib\n",
    "plt.scatter(embedding[:, 0], embedding[:, 1], cmap='Spectral')"
   ]
  }
 ],
 "metadata": {
  "kernelspec": {
   "display_name": "Python 3.8.10 64-bit",
   "language": "python",
   "name": "python3"
  },
  "language_info": {
   "codemirror_mode": {
    "name": "ipython",
    "version": 3
   },
   "file_extension": ".py",
   "mimetype": "text/x-python",
   "name": "python",
   "nbconvert_exporter": "python",
   "pygments_lexer": "ipython3",
   "version": "3.8.10"
  },
  "orig_nbformat": 4,
  "vscode": {
   "interpreter": {
    "hash": "916dbcbb3f70747c44a77c7bcd40155683ae19c65e1c03b4aa3499c5328201f1"
   }
  }
 },
 "nbformat": 4,
 "nbformat_minor": 2
}
