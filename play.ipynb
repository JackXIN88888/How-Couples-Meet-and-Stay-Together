{
 "cells": [
  {
   "cell_type": "code",
   "execution_count": 1,
   "metadata": {},
   "outputs": [
    {
     "name": "stdout",
     "output_type": "stream",
     "text": [
      "Requirement already satisfied: pandas in /home/jack/.local/lib/python3.8/site-packages (1.5.1)\n",
      "Requirement already satisfied: numpy>=1.20.3; python_version < \"3.10\" in /home/jack/.local/lib/python3.8/site-packages (from pandas) (1.23.5)\n",
      "Requirement already satisfied: pytz>=2020.1 in /home/jack/.local/lib/python3.8/site-packages (from pandas) (2022.6)\n",
      "Requirement already satisfied: python-dateutil>=2.8.1 in /home/jack/.local/lib/python3.8/site-packages (from pandas) (2.8.2)\n",
      "Requirement already satisfied: six>=1.5 in /usr/lib/python3/dist-packages (from python-dateutil>=2.8.1->pandas) (1.14.0)\n",
      "Note: you may need to restart the kernel to use updated packages.\n"
     ]
    }
   ],
   "source": [
    "pip install pandas"
   ]
  },
  {
   "cell_type": "code",
   "execution_count": 33,
   "metadata": {},
   "outputs": [
    {
     "name": "stdout",
     "output_type": "stream",
     "text": [
      "Collecting matplotlib\n",
      "  Downloading matplotlib-3.6.2-cp38-cp38-manylinux_2_12_x86_64.manylinux2010_x86_64.whl (9.4 MB)\n",
      "\u001b[K     |████████████████████████████████| 9.4 MB 4.2 MB/s eta 0:00:01\n",
      "\u001b[?25hCollecting contourpy>=1.0.1\n",
      "  Downloading contourpy-1.0.6-cp38-cp38-manylinux_2_17_x86_64.manylinux2014_x86_64.whl (295 kB)\n",
      "\u001b[K     |████████████████████████████████| 295 kB 4.6 MB/s eta 0:00:01\n",
      "\u001b[?25hRequirement already satisfied: packaging>=20.0 in /home/jack/.local/lib/python3.8/site-packages (from matplotlib) (21.3)\n",
      "Requirement already satisfied: pyparsing>=2.2.1 in /home/jack/.local/lib/python3.8/site-packages (from matplotlib) (3.0.9)\n",
      "Collecting fonttools>=4.22.0\n",
      "  Downloading fonttools-4.38.0-py3-none-any.whl (965 kB)\n",
      "\u001b[K     |████████████████████████████████| 965 kB 13.7 MB/s eta 0:00:01\n",
      "\u001b[?25hRequirement already satisfied: pillow>=6.2.0 in /usr/lib/python3/dist-packages (from matplotlib) (7.0.0)\n",
      "Requirement already satisfied: numpy>=1.19 in /home/jack/.local/lib/python3.8/site-packages (from matplotlib) (1.23.5)\n",
      "Collecting cycler>=0.10\n",
      "  Downloading cycler-0.11.0-py3-none-any.whl (6.4 kB)\n",
      "Requirement already satisfied: python-dateutil>=2.7 in /home/jack/.local/lib/python3.8/site-packages (from matplotlib) (2.8.2)\n",
      "Collecting kiwisolver>=1.0.1\n",
      "  Downloading kiwisolver-1.4.4-cp38-cp38-manylinux_2_5_x86_64.manylinux1_x86_64.whl (1.2 MB)\n",
      "\u001b[K     |████████████████████████████████| 1.2 MB 12.6 MB/s eta 0:00:01\n",
      "\u001b[?25hRequirement already satisfied: six>=1.5 in /usr/lib/python3/dist-packages (from python-dateutil>=2.7->matplotlib) (1.14.0)\n",
      "Installing collected packages: contourpy, fonttools, cycler, kiwisolver, matplotlib\n",
      "Successfully installed contourpy-1.0.6 cycler-0.11.0 fonttools-4.38.0 kiwisolver-1.4.4 matplotlib-3.6.2\n",
      "Note: you may need to restart the kernel to use updated packages.\n"
     ]
    }
   ],
   "source": [
    "pip install matplotlib"
   ]
  },
  {
   "cell_type": "code",
   "execution_count": 34,
   "metadata": {},
   "outputs": [],
   "source": [
    "import matplotlib as plt"
   ]
  },
  {
   "cell_type": "code",
   "execution_count": 1,
   "metadata": {},
   "outputs": [
    {
     "name": "stdout",
     "output_type": "stream",
     "text": [
      "      CaseID  CASEID_NEW      qflag  weight1  weight1_freqwt  weight2  \\\n",
      "0          2     2014039  Qualified      NaN             NaN   0.8945   \n",
      "1          3     2019003  Qualified   0.9078         71115.0      NaN   \n",
      "2          5     2145527  Qualified   0.7205         56442.0      NaN   \n",
      "3          6     2648857  Qualified   1.2597         98682.0   1.3507   \n",
      "4          7     2623465  Qualified   0.8686         68044.0      NaN   \n",
      "...      ...         ...        ...      ...             ...      ...   \n",
      "3505    4304     1228389  Qualified      NaN             NaN   0.6463   \n",
      "3506    4305     2480357  Qualified      NaN             NaN   1.1856   \n",
      "3507    4307     2090075  Qualified      NaN             NaN   0.7724   \n",
      "3508    4309     2914837  Qualified      NaN             NaN   0.6082   \n",
      "3509    4311     2747613  Qualified      NaN             NaN   0.5909   \n",
      "\n",
      "      weight1a  weight1a_freqwt  weight_combo  weight_combo_freqwt  ...  \\\n",
      "0          NaN              NaN      0.277188              19240.0  ...   \n",
      "1       0.9026          70707.0      1.020621              70841.0  ...   \n",
      "2       0.7164          56121.0      0.810074              56227.0  ...   \n",
      "3       1.2524          98110.0      0.418556              29052.0  ...   \n",
      "4       0.8636          67652.0      0.976522              67781.0  ...   \n",
      "...        ...              ...           ...                  ...  ...   \n",
      "3505       NaN              NaN      0.200276              13901.0  ...   \n",
      "3506       NaN              NaN      0.367395              25501.0  ...   \n",
      "3507       NaN              NaN      0.239352              16613.0  ...   \n",
      "3508       NaN              NaN      0.188469              13082.0  ...   \n",
      "3509       NaN              NaN      0.183109              12710.0  ...   \n",
      "\n",
      "      hcm2017q24_met_through_family hcm2017q24_met_through_friend  \\\n",
      "0                                no                            no   \n",
      "1                                no                            no   \n",
      "2                                no                            no   \n",
      "3                                no                            no   \n",
      "4                                no                            no   \n",
      "...                             ...                           ...   \n",
      "3505                             no                            no   \n",
      "3506                            yes                           yes   \n",
      "3507                             no                            no   \n",
      "3508                             no                            no   \n",
      "3509                             no                            no   \n",
      "\n",
      "     hcm2017q24_met_through_as_nghbrs hcm2017q24_met_as_through_cowork  \\\n",
      "0                                  no                               no   \n",
      "1                                  no                              yes   \n",
      "2                                  no                               no   \n",
      "3                                  no                               no   \n",
      "4                                 yes                               no   \n",
      "...                               ...                              ...   \n",
      "3505                               no                               no   \n",
      "3506                               no                               no   \n",
      "3507                               no                               no   \n",
      "3508                               no                               no   \n",
      "3509                               no                               no   \n",
      "\n",
      "     w6_subject_race interracial_5cat partner_mother_yrsed  \\\n",
      "0              White               no                 12.0   \n",
      "1              White               no                 12.0   \n",
      "2              White               no                  9.0   \n",
      "3              White               no                 16.0   \n",
      "4              White               no                 14.0   \n",
      "...              ...              ...                  ...   \n",
      "3505           White               no                 12.0   \n",
      "3506           White               no                 16.0   \n",
      "3507           White              yes                 14.0   \n",
      "3508           White              yes                 12.0   \n",
      "3509           White               no                 20.0   \n",
      "\n",
      "     subject_mother_yrsed partner_yrsed subject_yrsed  \n",
      "0                    14.0          12.0          14.0  \n",
      "1                    16.0          17.0          17.0  \n",
      "2                     7.5          14.0          17.0  \n",
      "3                    12.0          12.0          12.0  \n",
      "4                    17.0          16.0          16.0  \n",
      "...                   ...           ...           ...  \n",
      "3505                 12.0          16.0          17.0  \n",
      "3506                 17.0          16.0          16.0  \n",
      "3507                 16.0          16.0          16.0  \n",
      "3508                 13.0          17.0          17.0  \n",
      "3509                  2.5          12.0          16.0  \n",
      "\n",
      "[3510 rows x 285 columns]\n"
     ]
    }
   ],
   "source": [
    "import pandas as pd\n",
    "\n",
    "file2017=pd.pandas.read_stata('HCMST 2017 fresh sample for public sharing draft v1.1.dta')\n",
    "print(file2017)"
   ]
  },
  {
   "cell_type": "markdown",
   "metadata": {},
   "source": [
    "explore 2017"
   ]
  },
  {
   "cell_type": "code",
   "execution_count": 6,
   "metadata": {},
   "outputs": [
    {
     "name": "stdout",
     "output_type": "stream",
     "text": [
      "Index(['CaseID', 'CASEID_NEW', 'weight1', 'weight1_freqwt', 'weight2',\n",
      "       'weight1a', 'weight1a_freqwt', 'weight_combo', 'weight_combo_freqwt',\n",
      "       'duration', 'Q16', 'w6_q9', 'w6_q16', 'w6_q17', 'w6_q21a_year',\n",
      "       'w6_q21b_year', 'w6_q21b_month_flag', 'w6_q21c_year',\n",
      "       'w6_q21c_month_flag', 'w6_q21d_year', 'w6_q21e_year', 'w6_q21f_year',\n",
      "       'w6_outness_timing_all', 'w6_q24_length', 'w6_q26',\n",
      "       'w6_number_people_met', 'relate_duration_at_w6_years',\n",
      "       'w6_number_people_met_app', 'weight_combo_v2', 'female',\n",
      "       'year_fraction_met', 'year_fraction_relstart', 'age_when_met',\n",
      "       'time_from_met_to_rel', 'year_fraction_first_cohab',\n",
      "       'time_from_rel_to_cohab', 'hcm2017_q24_length',\n",
      "       'hcm2017q24_summary_all_codes', 'partner_mother_yrsed',\n",
      "       'subject_mother_yrsed', 'partner_yrsed', 'subject_yrsed'],\n",
      "      dtype='object')\n"
     ]
    }
   ],
   "source": [
    "# print(file2017.describe())\n",
    "print(file2017.describe().columns)"
   ]
  },
  {
   "cell_type": "code",
   "execution_count": 17,
   "metadata": {},
   "outputs": [
    {
     "name": "stdout",
     "output_type": "stream",
     "text": [
      "Index(['CaseID', 'CASEID_NEW', 'qflag', 'weight1', 'weight1_freqwt', 'weight2',\n",
      "       'weight1a', 'weight1a_freqwt', 'weight_combo', 'weight_combo_freqwt',\n",
      "       ...\n",
      "       'hcm2017q24_met_through_family', 'hcm2017q24_met_through_friend',\n",
      "       'hcm2017q24_met_through_as_nghbrs', 'hcm2017q24_met_as_through_cowork',\n",
      "       'w6_subject_race', 'interracial_5cat', 'partner_mother_yrsed',\n",
      "       'subject_mother_yrsed', 'partner_yrsed', 'subject_yrsed'],\n",
      "      dtype='object', length=285)\n"
     ]
    }
   ],
   "source": [
    "print(file2017.columns)\n",
    "col=[]\n",
    "col= file2017.columns\n",
    "import csv\n",
    "\n",
    "with open('col.csv','w') as f:\n",
    "    writer=csv.writer(f)\n",
    "    writer.writerow(col)"
   ]
  },
  {
   "cell_type": "code",
   "execution_count": 14,
   "metadata": {},
   "outputs": [
    {
     "name": "stdout",
     "output_type": "stream",
     "text": [
      "0    NaN\n",
      "1    NaN\n",
      "2    NaN\n",
      "3    NaN\n",
      "4    NaN\n",
      "Name: w6_how_many_app_all, dtype: category\n",
      "Categories (5, object): ['Refused' < 'No, I have not used a phone dating app in the... < 'Yes, I have used a phone dating app in the pa... < 3.0 < 4.0]\n"
     ]
    }
   ],
   "source": [
    "# print(file2017.loc[:,['w6_otherdate_app','w6_how_many_app','w6_otherdate_app_2','w6_how_many_app_2','w6_otherdate_app_all','w6_how_many_app_all','w6_number_people_met_app']])\n",
    "app_users_2017=file2017.loc[:,['w6_otherdate_app','w6_how_many_app','w6_otherdate_app_2','w6_how_many_app_2','w6_otherdate_app_all','w6_how_many_app_all','w6_number_people_met_app']]\n",
    "\n",
    "# app_users_2017=app_related_2017.dropna()\n",
    "\n",
    "\n",
    "\n",
    "# app_users_2017=app_related_2017['w6_otherdate_app'].dropna()\n",
    "# app_users_2017=app_related_2017['w6_otherdate_app'].dropna()\n",
    "# app_users_2017=app_related_2017['w6_otherdate_app'].dropna()\n",
    "# app_users_2017=app_related_2017['w6_otherdate_app'].dropna()\n",
    "# app_users_2017=app_related_2017['w6_otherdate_app'].dropna()\n",
    "# print(app_users_2017.iloc[1])\n",
    "# print(app_users_2017.iloc[3])\n",
    "print(app_users_2017['w6_how_many_app_all'].head())\n",
    "\n",
    "# import csv\n",
    "\n",
    "# with open('app_users_2017.csv','w') as f:\n",
    "#     writer=csv.writer(f)\n",
    "#     writer.writerow(app_users_2017.iloc[1])\n",
    "\n",
    "app_users_2017.to_csv('app_users_2017.csv')"
   ]
  },
  {
   "cell_type": "code",
   "execution_count": 26,
   "metadata": {},
   "outputs": [
    {
     "name": "stdout",
     "output_type": "stream",
     "text": [
      "  hcm2017q24_internet_dating\n",
      "0                        yes\n",
      "1                         no\n",
      "2                         no\n",
      "3                         no\n",
      "4                         no\n",
      "no     3099\n",
      "yes     196\n",
      "Name: hcm2017q24_internet_dating, dtype: int64\n"
     ]
    }
   ],
   "source": [
    "\n",
    "\n",
    "internet_dating_2017=file2017.loc[:,['hcm2017q24_internet_dating']]\n",
    "print(internet_dating_2017.head())\n",
    "internet_dating_users_2017=internet_dating_2017['hcm2017q24_internet_dating'].dropna()\n",
    "# internet_dating_users_2017[internet_dating_users_2017[\"hcm2017q24_internet_dating\"]==\" yes \"]\n",
    "print(internet_dating_users_2017.value_counts())\n"
   ]
  },
  {
   "cell_type": "code",
   "execution_count": 31,
   "metadata": {},
   "outputs": [
    {
     "name": "stdout",
     "output_type": "stream",
     "text": [
      "  hcm2017q24_internet_dating ppage\n",
      "0                        yes    30\n",
      "1                         no    55\n",
      "2                         no    47\n",
      "3                         no    28\n",
      "4                         no    59\n",
      "count     196\n",
      "unique     53\n",
      "top        33\n",
      "freq       12\n",
      "Name: ppage, dtype: int64\n"
     ]
    }
   ],
   "source": [
    "internet_dating_age_2017=file2017.loc[:,['hcm2017q24_internet_dating','ppage']]\n",
    "print(internet_dating_age_2017.head())\n",
    "\n",
    "user=internet_dating_age_2017[internet_dating_age_2017['hcm2017q24_internet_dating']=='yes']\n",
    "print(user['ppage'].describe())\n",
    "plt.plot()\n",
    "\n",
    "\n",
    "# print(internet_dating_age_2017.groupby('hcm2017q24_internet_dating').mean())"
   ]
  },
  {
   "cell_type": "markdown",
   "metadata": {},
   "source": [
    "K MEAN CLUSTERING"
   ]
  },
  {
   "cell_type": "code",
   "execution_count": 35,
   "metadata": {},
   "outputs": [
    {
     "name": "stdout",
     "output_type": "stream",
     "text": [
      "Collecting sklearn\n",
      "  Downloading sklearn-0.0.post1.tar.gz (3.6 kB)\n",
      "Building wheels for collected packages: sklearn\n",
      "  Building wheel for sklearn (setup.py) ... \u001b[?25ldone\n",
      "\u001b[?25h  Created wheel for sklearn: filename=sklearn-0.0.post1-py3-none-any.whl size=2342 sha256=6393423d08ec42a9b6a562b419e2e03e548a3bf8637b87c5803d341e373ae411\n",
      "  Stored in directory: /home/jack/.cache/pip/wheels/14/25/f7/1cc0956978ae479e75140219088deb7a36f60459df242b1a72\n",
      "Successfully built sklearn\n",
      "Installing collected packages: sklearn\n",
      "Successfully installed sklearn-0.0.post1\n",
      "Note: you may need to restart the kernel to use updated packages.\n"
     ]
    }
   ],
   "source": [
    "pip install sklearn"
   ]
  },
  {
   "cell_type": "code",
   "execution_count": null,
   "metadata": {},
   "outputs": [],
   "source": [
    "\n",
    "\n",
    "from sklearn.cluster import KMeans\n",
    "\n",
    "# number of clusters\n",
    "team_size = 6\n",
    "\n",
    "# make new dataframe with relevant metrics\n",
    "pokemon_metrics = pokemon['weight_kg'].to_frame().join(pokemon['height_m'].to_frame())\n",
    "\n",
    "# z-score normalisation\n",
    "pokemon_metrics_normalized=(pokemon_metrics-pokemon_metrics.mean())/pokemon_metrics.std()\n",
    "pokemon_metrics_normalized = pokemon_metrics_normalized.rename(columns={'weight_kg': 'weight_zscore',\n",
    "                                                                        'height_m':'height_zscore'})\n",
    "\n",
    "# fit a kmeans object to the dataset\n",
    "kmeans = KMeans(n_clusters=team_size, init='k-means++').fit(pokemon_metrics_normalized)\n",
    "\n",
    "# clusters is an attribute of the object\n",
    "cluster_centers = kmeans.cluster_centers_\n",
    "\n",
    "# add cluster index to dataframe\n",
    "cluster_labels = pd.Series(kmeans.labels_, name='cluster')\n",
    "pokemon_metrics_normalized = pokemon_metrics_normalized.join(cluster_labels.to_frame())\n",
    "\n"
   ]
  },
  {
   "cell_type": "markdown",
   "metadata": {},
   "source": [
    "Hierarchical clustering"
   ]
  },
  {
   "cell_type": "code",
   "execution_count": 3,
   "metadata": {},
   "outputs": [
    {
     "name": "stdout",
     "output_type": "stream",
     "text": [
      "Collecting scipy\n",
      "  Downloading scipy-1.9.3-cp38-cp38-manylinux_2_17_x86_64.manylinux2014_x86_64.whl (33.8 MB)\n",
      "\u001b[K     |████████████████████████████████| 33.8 MB 370 kB/s eta 0:00:013\n",
      "\u001b[?25hRequirement already satisfied: numpy<1.26.0,>=1.18.5 in /home/jack/.local/lib/python3.8/site-packages (from scipy) (1.23.5)\n",
      "Installing collected packages: scipy\n",
      "Successfully installed scipy-1.9.3\n",
      "Note: you may need to restart the kernel to use updated packages.\n"
     ]
    }
   ],
   "source": [
    "pip install scipy\n"
   ]
  },
  {
   "cell_type": "code",
   "execution_count": 10,
   "metadata": {},
   "outputs": [],
   "source": [
    "\n",
    "\n",
    "# hierachy=file2017.loc[:,['weight1', 'weight1_freqwt', 'weight2',\n",
    "#        'weight1a', 'weight1a_freqwt', 'weight_combo', 'weight_combo_freqwt',\n",
    "#        'duration', 'Q16', 'w6_q9', 'w6_q16', 'w6_q17', 'w6_q21a_year',\n",
    "#        'w6_q21b_year', 'w6_q21b_month_flag', 'w6_q21c_year',\n",
    "#        'w6_q21c_month_flag', 'w6_q21d_year', 'w6_q21e_year', 'w6_q21f_year',\n",
    "#        'w6_outness_timing_all', 'w6_q24_length', 'w6_q26',\n",
    "#        'w6_number_people_met', 'relate_duration_at_w6_years',\n",
    "#        'w6_number_people_met_app', 'weight_combo_v2', 'female',\n",
    "#        'year_fraction_met', 'year_fraction_relstart', 'age_when_met',\n",
    "#        'time_from_met_to_rel', 'year_fraction_first_cohab',\n",
    "#        'time_from_rel_to_cohab', 'hcm2017_q24_length',\n",
    "#        'hcm2017q24_summary_all_codes', 'partner_mother_yrsed',\n",
    "#        'subject_mother_yrsed', 'partner_yrsed', 'subject_yrsed']]\n",
    "\n",
    "\n",
    "hierachy=file2017.loc[:,['duration','female','subject_yrsed']]\n",
    "\n",
    "\n",
    "# missing_val_count_by_column=hierachy.isnull().sum()\n",
    "# # print(missing_val_count_by_column[missing_val_count_by_column > 0])\n",
    "\n",
    "# x= missing_val_count_by_column[missing_val_count_by_column == 0]\n",
    "\n",
    "# Z = linkage(hierachy,\n",
    "# method='ward',\n",
    "# metric='euclidean')\n",
    "# dn = dendrogram(Z)\n",
    "# plt.show()\n",
    "\n",
    "# scipy.cluster.hierarchy.linkage(file2017,\n",
    "# method='single',\n",
    "# metric='euclidean',\n",
    "# optimal_ordering=False\n",
    "# )\n"
   ]
  },
  {
   "cell_type": "markdown",
   "metadata": {},
   "source": [
    "drop NaN"
   ]
  },
  {
   "cell_type": "code",
   "execution_count": 19,
   "metadata": {},
   "outputs": [
    {
     "name": "stdout",
     "output_type": "stream",
     "text": [
      "      weight1  weight1_freqwt  weight1a  weight1a_freqwt  weight_combo  \\\n",
      "0         NaN             NaN       NaN              NaN      0.277188   \n",
      "1      0.9078         71115.0    0.9026          70707.0      1.020621   \n",
      "2      0.7205         56442.0    0.7164          56121.0      0.810074   \n",
      "3      1.2597         98682.0    1.2524          98110.0      0.418556   \n",
      "4      0.8686         68044.0    0.8636          67652.0      0.976522   \n",
      "...       ...             ...       ...              ...           ...   \n",
      "3505      NaN             NaN       NaN              NaN      0.200276   \n",
      "3506      NaN             NaN       NaN              NaN      0.367395   \n",
      "3507      NaN             NaN       NaN              NaN      0.239352   \n",
      "3508      NaN             NaN       NaN              NaN      0.188469   \n",
      "3509      NaN             NaN       NaN              NaN      0.183109   \n",
      "\n",
      "      weight_combo_freqwt  duration   Q16  w6_q9  w6_q16  ...  age_when_met  \\\n",
      "0                 19240.0         9   NaN   26.0     1.0  ...          30.0   \n",
      "1                 70841.0        11   1.0   52.0     1.0  ...          21.0   \n",
      "2                 56227.0         7   0.0   45.0     0.0  ...          36.0   \n",
      "3                 29052.0         5   NaN   26.0     0.0  ...          23.0   \n",
      "4                 67781.0        13   0.0   59.0     0.0  ...          25.0   \n",
      "...                   ...       ...   ...    ...     ...  ...           ...   \n",
      "3505              13901.0         5   0.0   29.0     0.0  ...          25.0   \n",
      "3506              25501.0         3   3.0   21.0     3.0  ...          23.0   \n",
      "3507              16613.0         8   0.0   39.0     0.0  ...          36.0   \n",
      "3508              13082.0         7   5.0   28.0     5.0  ...          29.0   \n",
      "3509              12710.0        40  10.0   43.0    10.0  ...          41.0   \n",
      "\n",
      "      time_from_met_to_rel  year_fraction_first_cohab  time_from_rel_to_cohab  \\\n",
      "0                 0.000000                        NaN                     NaN   \n",
      "1                12.250000                1996.125000                0.500000   \n",
      "2                 0.416748                2006.541626                0.083252   \n",
      "3                 1.083252                        NaN                     NaN   \n",
      "4                 0.083252                1984.625000                0.833374   \n",
      "...                    ...                        ...                     ...   \n",
      "3505              0.000000                2015.541626                0.333252   \n",
      "3506              1.000000                        NaN                     NaN   \n",
      "3507              0.000000                2013.125000                0.416626   \n",
      "3508              0.083252                2016.791626                1.750000   \n",
      "3509              0.000000                2015.791626                0.333252   \n",
      "\n",
      "      hcm2017_q24_length  hcm2017q24_summary_all_codes  partner_mother_yrsed  \\\n",
      "0                  232.0                           1.0                  12.0   \n",
      "1                  213.0                           2.0                  12.0   \n",
      "2                   87.0                           2.0                   9.0   \n",
      "3                   80.0                           1.0                  16.0   \n",
      "4                  818.0                           3.0                  14.0   \n",
      "...                  ...                           ...                   ...   \n",
      "3505               178.0                           2.0                  12.0   \n",
      "3506                35.0                           3.0                  16.0   \n",
      "3507                22.0                           1.0                  14.0   \n",
      "3508               227.0                           2.0                  12.0   \n",
      "3509               362.0                           1.0                  20.0   \n",
      "\n",
      "      subject_mother_yrsed  partner_yrsed  subject_yrsed  \n",
      "0                     14.0           12.0           14.0  \n",
      "1                     16.0           17.0           17.0  \n",
      "2                      7.5           14.0           17.0  \n",
      "3                     12.0           12.0           12.0  \n",
      "4                     17.0           16.0           16.0  \n",
      "...                    ...            ...            ...  \n",
      "3505                  12.0           16.0           17.0  \n",
      "3506                  17.0           16.0           16.0  \n",
      "3507                  16.0           16.0           16.0  \n",
      "3508                  13.0           17.0           17.0  \n",
      "3509                   2.5           12.0           16.0  \n",
      "\n",
      "[3510 rows x 32 columns]\n"
     ]
    }
   ],
   "source": [
    "import numpy as np\n",
    "\n",
    "df_sas=hierachy\n",
    "df_sas = df_sas.replace([' ','NULL'],np.nan)\n",
    "df_sas = df_sas.dropna(thresh=df_sas.shape[0]*0.7,axis=1)\n",
    "print(df_sas)"
   ]
  },
  {
   "cell_type": "markdown",
   "metadata": {},
   "source": [
    "total dataset"
   ]
  },
  {
   "cell_type": "code",
   "execution_count": 1,
   "metadata": {},
   "outputs": [
    {
     "name": "stdout",
     "output_type": "stream",
     "text": [
      "Requirement already satisfied: pyreadstat in /home/jack/.local/lib/python3.8/site-packages (1.2.0)\n",
      "Requirement already satisfied: pandas>=1.2.0 in /home/jack/.local/lib/python3.8/site-packages (from pyreadstat) (1.5.1)\n",
      "Requirement already satisfied: pytz>=2020.1 in /home/jack/.local/lib/python3.8/site-packages (from pandas>=1.2.0->pyreadstat) (2022.6)\n",
      "Requirement already satisfied: python-dateutil>=2.8.1 in /home/jack/.local/lib/python3.8/site-packages (from pandas>=1.2.0->pyreadstat) (2.8.2)\n",
      "Requirement already satisfied: numpy>=1.20.3; python_version < \"3.10\" in /home/jack/.local/lib/python3.8/site-packages (from pandas>=1.2.0->pyreadstat) (1.23.5)\n",
      "Requirement already satisfied: six>=1.5 in /usr/lib/python3/dist-packages (from python-dateutil>=2.8.1->pandas>=1.2.0->pyreadstat) (1.14.0)\n",
      "Note: you may need to restart the kernel to use updated packages.\n"
     ]
    }
   ],
   "source": [
    "pip install pyreadstat"
   ]
  },
  {
   "cell_type": "code",
   "execution_count": 117,
   "metadata": {},
   "outputs": [
    {
     "data": {
      "text/plain": [
       "0    NaN\n",
       "1     13\n",
       "2     11\n",
       "3    NaN\n",
       "4     12\n",
       "Name: Q10, dtype: object"
      ]
     },
     "execution_count": 117,
     "metadata": {},
     "output_type": "execute_result"
    }
   ],
   "source": [
    "import pyreadstat\n",
    "\n",
    "HCMST_2017 = 'HCMST 2017 fresh sample for public sharing draft v1.1.dta'\n",
    "\n",
    "df, meta = pyreadstat.read_dta(HCMST_2017)\n",
    "df['Q10'].head()"
   ]
  },
  {
   "cell_type": "markdown",
   "metadata": {},
   "source": [
    "wave 4"
   ]
  },
  {
   "cell_type": "code",
   "execution_count": 11,
   "metadata": {},
   "outputs": [
    {
     "data": {
      "image/png": "[encoded data removed]",
      "text/plain": [
       "<Figure size 640x480 with 1 Axes>"
      ]
     },
     "metadata": {},
     "output_type": "display_data"
    }
   ],
   "source": [
    "from scipy.cluster.hierarchy import dendrogram\n",
    "from scipy.cluster.hierarchy import linkage\n",
    "from matplotlib import pyplot as plt\n",
    "\n",
    "Z = linkage(hierachy,\n",
    "method='ward',\n",
    "metric='euclidean')\n",
    "dn = dendrogram(Z)\n",
    "plt.show()"
   ]
  },
  {
   "cell_type": "markdown",
   "metadata": {},
   "source": [
    "whole dataset"
   ]
  },
  {
   "cell_type": "code",
   "execution_count": 45,
   "metadata": {},
   "outputs": [
    {
     "name": "stdout",
     "output_type": "stream",
     "text": [
      "Collecting pyreadstat\n",
      "  Downloading pyreadstat-1.2.0-cp38-cp38-manylinux_2_17_x86_64.manylinux2014_x86_64.whl (2.7 MB)\n",
      "\u001b[K     |████████████████████████████████| 2.7 MB 3.0 MB/s eta 0:00:01\n",
      "\u001b[?25hRequirement already satisfied: pandas>=1.2.0 in /home/jack/.local/lib/python3.8/site-packages (from pyreadstat) (1.5.1)\n",
      "Requirement already satisfied: python-dateutil>=2.8.1 in /home/jack/.local/lib/python3.8/site-packages (from pandas>=1.2.0->pyreadstat) (2.8.2)\n",
      "Requirement already satisfied: pytz>=2020.1 in /home/jack/.local/lib/python3.8/site-packages (from pandas>=1.2.0->pyreadstat) (2022.6)\n",
      "Requirement already satisfied: numpy>=1.20.3; python_version < \"3.10\" in /home/jack/.local/lib/python3.8/site-packages (from pandas>=1.2.0->pyreadstat) (1.23.5)\n",
      "Requirement already satisfied: six>=1.5 in /usr/lib/python3/dist-packages (from python-dateutil>=2.8.1->pandas>=1.2.0->pyreadstat) (1.14.0)\n",
      "Installing collected packages: pyreadstat\n",
      "Successfully installed pyreadstat-1.2.0\n",
      "Note: you may need to restart the kernel to use updated packages.\n"
     ]
    }
   ],
   "source": [
    "pip install pyreadstat"
   ]
  },
  {
   "cell_type": "code",
   "execution_count": 5,
   "metadata": {},
   "outputs": [
    {
     "name": "stdout",
     "output_type": "stream",
     "text": [
      "Series([], dtype: int64)\n"
     ]
    }
   ],
   "source": [
    "\n",
    "import pyreadstat\n",
    "\n",
    "HCMST_2017 = 'HCMST 2017 fresh sample for public sharing draft v1.1.dta'\n",
    "\n",
    "df, meta = pyreadstat.read_dta(HCMST_2017)\n",
    "df.head()\n",
    "file2017_num=df.fillna(0)\n",
    "# print(file2017_num.head())\n",
    "\n",
    "missing_val_count_by_column=file2017_num.isnull().sum()\n",
    "print(missing_val_count_by_column[missing_val_count_by_column > 0])"
   ]
  },
  {
   "cell_type": "code",
   "execution_count": 115,
   "metadata": {},
   "outputs": [
    {
     "data": {
      "text/plain": [
       "0    NaN\n",
       "1     13\n",
       "2     11\n",
       "3    NaN\n",
       "4     12\n",
       "Name: Q10, dtype: object"
      ]
     },
     "execution_count": 115,
     "metadata": {},
     "output_type": "execute_result"
    }
   ],
   "source": [
    "df['Q10'].head()"
   ]
  },
  {
   "cell_type": "markdown",
   "metadata": {},
   "source": [
    "hierachy all"
   ]
  },
  {
   "cell_type": "code",
   "execution_count": 41,
   "metadata": {},
   "outputs": [
    {
     "data": {
      "image/png": "[encoded data removed]",
      "text/plain": [
       "<Figure size 640x480 with 1 Axes>"
      ]
     },
     "metadata": {},
     "output_type": "display_data"
    }
   ],
   "source": [
    "from scipy.cluster.hierarchy import dendrogram\n",
    "from scipy.cluster.hierarchy import linkage\n",
    "from matplotlib import pyplot as plt\n",
    "\n",
    "Z = linkage(file2017_num,\n",
    "method='centroid',\n",
    "metric='euclidean')\n",
    "dn = dendrogram(Z)\n",
    "plt.show()"
   ]
  },
  {
   "cell_type": "code",
   "execution_count": 83,
   "metadata": {},
   "outputs": [
    {
     "name": "stdout",
     "output_type": "stream",
     "text": [
      "<class 'numpy.ndarray'>\n",
      "0       16\n",
      "1       16\n",
      "2       15\n",
      "3       15\n",
      "4       15\n",
      "        ..\n",
      "3505    16\n",
      "3506    15\n",
      "3507    15\n",
      "3508    14\n",
      "3509    15\n",
      "Name: cluster, Length: 3510, dtype: int32\n"
     ]
    }
   ],
   "source": [
    "from scipy.cluster.hierarchy import fcluster\n",
    "\n",
    "cluster=fcluster(Z,\n",
    "1.1547005\n",
    ")\n",
    "cluster.mean()\n",
    "print(type(cluster))\n",
    "file2017_num['cluster']=cluster\n",
    "\n",
    "print(file2017_num['cluster'])"
   ]
  },
  {
   "cell_type": "markdown",
   "metadata": {},
   "source": [
    "K MEAN"
   ]
  },
  {
   "cell_type": "markdown",
   "metadata": {},
   "source": [
    "from sklearn.cluster import KMeans\n",
    "\n",
    "# number of clusters\n",
    "team_size = 6\n",
    "\n",
    "# make new dataframe with relevant metrics\n",
    "pokemon_metrics = pokemon['weight_kg'].to_frame().join(pokemon['height_m'].to_frame())\n",
    "\n",
    "# z-score normalisation\n",
    "pokemon_metrics_normalized=(pokemon_metrics-pokemon_metrics.mean())/pokemon_metrics.std()\n",
    "pokemon_metrics_normalized = pokemon_metrics_normalized.rename(columns={'weight_kg': 'weight_zscore',\n",
    "                                                                        'height_m':'height_zscore'})\n",
    "\n",
    "# fit a kmeans object to the dataset\n",
    "kmeans = KMeans(n_clusters=team_size, init='k-means++').fit(pokemon_metrics_normalized)\n",
    "\n",
    "# clusters is an attribute of the object\n",
    "cluster_centers = kmeans.cluster_centers_\n",
    "\n",
    "# add cluster index to dataframe\n",
    "cluster_labels = pd.Series(kmeans.labels_, name='cluster')\n",
    "pokemon_metrics_normalized = pokemon_metrics_normalized.join(cluster_labels.to_frame())"
   ]
  },
  {
   "cell_type": "markdown",
   "metadata": {},
   "source": [
    "dimension reduce  UMAP"
   ]
  },
  {
   "cell_type": "code",
   "execution_count": null,
   "metadata": {},
   "outputs": [],
   "source": [
    "S1,S2,S3,Q5,Q9,Q6B,Q10,Q11,Q16,Q12(POLITICS),"
   ]
  },
  {
   "cell_type": "markdown",
   "metadata": {},
   "source": [
    "just a dummy with 5 features? S1,q9, q10, q12,w6_q32 "
   ]
  },
  {
   "cell_type": "code",
   "execution_count": 35,
   "metadata": {},
   "outputs": [
    {
     "name": "stdout",
     "output_type": "stream",
     "text": [
      "                     S1                Q10               Q12  \\\n",
      "0  No, I am not Married                NaN               NaN   \n",
      "1     Yes, I am Married    Masters degree  Leans Republican   \n",
      "2     Yes, I am Married   Associate degree    Leans Democrat   \n",
      "3  No, I am not Married                NaN               NaN   \n",
      "4     Yes, I am Married  Bachelors degree   Strong Democrat   \n",
      "\n",
      "                                              w6_q32 ppage  \n",
      "0  Yes, an Internet dating or matchmaking site (l...    30  \n",
      "1  No, I did NOT meet [Partner Name] through the ...    55  \n",
      "2  Yes, an Internet dating or matchmaking site (l...    47  \n",
      "3  Yes, a social networking site (like Facebook o...    28  \n",
      "4  No, I did NOT meet [Partner Name] through the ...    59  \n"
     ]
    }
   ],
   "source": [
    "dummy_2017=file2017.loc[:,['S1','Q10','Q12','w6_q32','ppage']]\n",
    "print(dummy_2017.head())"
   ]
  },
  {
   "cell_type": "markdown",
   "metadata": {},
   "source": [
    "change to numeric not finished"
   ]
  },
  {
   "cell_type": "code",
   "execution_count": 3,
   "metadata": {},
   "outputs": [
    {
     "name": "stdout",
     "output_type": "stream",
     "text": [
      "count     2856.0\n",
      "unique      79.0\n",
      "top         55.0\n",
      "freq        79.0\n",
      "Name: PartnerAge, dtype: float64\n",
      "0     NaN\n",
      "1    52.0\n",
      "2    45.0\n",
      "3     NaN\n",
      "4    59.0\n",
      "Name: PartnerAge, dtype: category\n",
      "Categories (79, object): ['Refused' < 10.0 < 14.0 < 16.0 ... 89.0 < 90.0 < 91.0 < 95.0]\n"
     ]
    }
   ],
   "source": [
    "dummy_2017['Married'] = dummy_2017['S1'].replace(['No, I am not Married','Yes, I am Married'], [0,1])\n",
    "dummy_2017['App'] = dummy_2017['w6_q32'].replace(['Refused','No, I did NOT meet [Partner Name] through the Internet','Yes, a social networking site (like Facebook or Myspace)','Yes, an Internet dating or matchmaking site (like eHarmony or match.com)','Yes, an Internet classified advertising site (like Craigslist)','Yes, an Internet chat room','Yes, a different kind of Internet service','Yes, an app on my phone (like Tinder or Grindr)'], [0,0,1,1,1,1,1,1])\n",
    "dummy_2017['PartnerAge']=dummy_2017['Q9'].replace('NaN',-1)\n",
    "# dummy_2017=dummy_2017.fillna(-1)\n",
    "print(dummy_2017['PartnerAge'].describe())\n",
    "print(dummy_2017['PartnerAge'].head())"
   ]
  },
  {
   "cell_type": "markdown",
   "metadata": {},
   "source": [
    "change to categorical"
   ]
  },
  {
   "cell_type": "code",
   "execution_count": 37,
   "metadata": {},
   "outputs": [
    {
     "ename": "KeyError",
     "evalue": "'ppage'",
     "output_type": "error",
     "traceback": [
      "\u001b[0;31m---------------------------------------------------------------------------\u001b[0m",
      "\u001b[0;31mKeyError\u001b[0m                                  Traceback (most recent call last)",
      "File \u001b[0;32m~/.local/lib/python3.8/site-packages/pandas/core/indexes/base.py:3803\u001b[0m, in \u001b[0;36mIndex.get_loc\u001b[0;34m(self, key, method, tolerance)\u001b[0m\n\u001b[1;32m   3802\u001b[0m \u001b[39mtry\u001b[39;00m:\n\u001b[0;32m-> 3803\u001b[0m     \u001b[39mreturn\u001b[39;00m \u001b[39mself\u001b[39;49m\u001b[39m.\u001b[39;49m_engine\u001b[39m.\u001b[39;49mget_loc(casted_key)\n\u001b[1;32m   3804\u001b[0m \u001b[39mexcept\u001b[39;00m \u001b[39mKeyError\u001b[39;00m \u001b[39mas\u001b[39;00m err:\n",
      "File \u001b[0;32m~/.local/lib/python3.8/site-packages/pandas/_libs/index.pyx:138\u001b[0m, in \u001b[0;36mpandas._libs.index.IndexEngine.get_loc\u001b[0;34m()\u001b[0m\n",
      "File \u001b[0;32m~/.local/lib/python3.8/site-packages/pandas/_libs/index.pyx:165\u001b[0m, in \u001b[0;36mpandas._libs.index.IndexEngine.get_loc\u001b[0;34m()\u001b[0m\n",
      "File \u001b[0;32mpandas/_libs/hashtable_class_helper.pxi:5745\u001b[0m, in \u001b[0;36mpandas._libs.hashtable.PyObjectHashTable.get_item\u001b[0;34m()\u001b[0m\n",
      "File \u001b[0;32mpandas/_libs/hashtable_class_helper.pxi:5753\u001b[0m, in \u001b[0;36mpandas._libs.hashtable.PyObjectHashTable.get_item\u001b[0;34m()\u001b[0m\n",
      "\u001b[0;31mKeyError\u001b[0m: 'ppage'",
      "\nThe above exception was the direct cause of the following exception:\n",
      "\u001b[0;31mKeyError\u001b[0m                                  Traceback (most recent call last)",
      "Cell \u001b[0;32mIn [37], line 3\u001b[0m\n\u001b[1;32m      1\u001b[0m \u001b[39mimport\u001b[39;00m \u001b[39mnumpy\u001b[39;00m \u001b[39mas\u001b[39;00m \u001b[39mnp\u001b[39;00m\n\u001b[0;32m----> 3\u001b[0m dummy_2017[\u001b[39m'\u001b[39m\u001b[39mage_bin\u001b[39m\u001b[39m'\u001b[39m] \u001b[39m=\u001b[39m pd\u001b[39m.\u001b[39mcut(dummy_2017[\u001b[39m'\u001b[39;49m\u001b[39mppage\u001b[39;49m\u001b[39m'\u001b[39;49m], [\u001b[39m0\u001b[39m, \u001b[39m20\u001b[39m, \u001b[39m30\u001b[39m, \u001b[39m40\u001b[39m, \u001b[39m50\u001b[39m, \u001b[39m60\u001b[39m, \u001b[39m70\u001b[39m, \u001b[39m80\u001b[39m, \u001b[39m90\u001b[39m, \u001b[39m100\u001b[39m], \n\u001b[1;32m      4\u001b[0m                               labels\u001b[39m=\u001b[39m[\u001b[39m'\u001b[39m\u001b[39m0-20\u001b[39m\u001b[39m'\u001b[39m, \u001b[39m'\u001b[39m\u001b[39m20-30\u001b[39m\u001b[39m'\u001b[39m, \u001b[39m'\u001b[39m\u001b[39m30-40\u001b[39m\u001b[39m'\u001b[39m, \u001b[39m'\u001b[39m\u001b[39m40-50\u001b[39m\u001b[39m'\u001b[39m,\u001b[39m'\u001b[39m\u001b[39m50-60\u001b[39m\u001b[39m'\u001b[39m,\u001b[39m'\u001b[39m\u001b[39m60-70\u001b[39m\u001b[39m'\u001b[39m,\u001b[39m'\u001b[39m\u001b[39m70-80\u001b[39m\u001b[39m'\u001b[39m, \u001b[39m'\u001b[39m\u001b[39m80-90\u001b[39m\u001b[39m'\u001b[39m,\u001b[39m'\u001b[39m\u001b[39m90-100\u001b[39m\u001b[39m'\u001b[39m])\n\u001b[1;32m      6\u001b[0m dummy_2017\u001b[39m=\u001b[39m dummy_2017\u001b[39m.\u001b[39mdrop(\u001b[39m'\u001b[39m\u001b[39mppage\u001b[39m\u001b[39m'\u001b[39m,axis \u001b[39m=\u001b[39m \u001b[39m1\u001b[39m)\n\u001b[1;32m      7\u001b[0m \u001b[39mprint\u001b[39m(dummy_2017\u001b[39m.\u001b[39mhead())\n",
      "File \u001b[0;32m~/.local/lib/python3.8/site-packages/pandas/core/frame.py:3804\u001b[0m, in \u001b[0;36mDataFrame.__getitem__\u001b[0;34m(self, key)\u001b[0m\n\u001b[1;32m   3802\u001b[0m \u001b[39mif\u001b[39;00m \u001b[39mself\u001b[39m\u001b[39m.\u001b[39mcolumns\u001b[39m.\u001b[39mnlevels \u001b[39m>\u001b[39m \u001b[39m1\u001b[39m:\n\u001b[1;32m   3803\u001b[0m     \u001b[39mreturn\u001b[39;00m \u001b[39mself\u001b[39m\u001b[39m.\u001b[39m_getitem_multilevel(key)\n\u001b[0;32m-> 3804\u001b[0m indexer \u001b[39m=\u001b[39m \u001b[39mself\u001b[39;49m\u001b[39m.\u001b[39;49mcolumns\u001b[39m.\u001b[39;49mget_loc(key)\n\u001b[1;32m   3805\u001b[0m \u001b[39mif\u001b[39;00m is_integer(indexer):\n\u001b[1;32m   3806\u001b[0m     indexer \u001b[39m=\u001b[39m [indexer]\n",
      "File \u001b[0;32m~/.local/lib/python3.8/site-packages/pandas/core/indexes/base.py:3805\u001b[0m, in \u001b[0;36mIndex.get_loc\u001b[0;34m(self, key, method, tolerance)\u001b[0m\n\u001b[1;32m   3803\u001b[0m     \u001b[39mreturn\u001b[39;00m \u001b[39mself\u001b[39m\u001b[39m.\u001b[39m_engine\u001b[39m.\u001b[39mget_loc(casted_key)\n\u001b[1;32m   3804\u001b[0m \u001b[39mexcept\u001b[39;00m \u001b[39mKeyError\u001b[39;00m \u001b[39mas\u001b[39;00m err:\n\u001b[0;32m-> 3805\u001b[0m     \u001b[39mraise\u001b[39;00m \u001b[39mKeyError\u001b[39;00m(key) \u001b[39mfrom\u001b[39;00m \u001b[39merr\u001b[39;00m\n\u001b[1;32m   3806\u001b[0m \u001b[39mexcept\u001b[39;00m \u001b[39mTypeError\u001b[39;00m:\n\u001b[1;32m   3807\u001b[0m     \u001b[39m# If we have a listlike key, _check_indexing_error will raise\u001b[39;00m\n\u001b[1;32m   3808\u001b[0m     \u001b[39m#  InvalidIndexError. Otherwise we fall through and re-raise\u001b[39;00m\n\u001b[1;32m   3809\u001b[0m     \u001b[39m#  the TypeError.\u001b[39;00m\n\u001b[1;32m   3810\u001b[0m     \u001b[39mself\u001b[39m\u001b[39m.\u001b[39m_check_indexing_error(key)\n",
      "\u001b[0;31mKeyError\u001b[0m: 'ppage'"
     ]
    }
   ],
   "source": [
    "import numpy as np\n",
    "\n",
    "dummy_2017['age_bin'] = pd.cut(dummy_2017['ppage'], [0, 20, 30, 40, 50, 60, 70, 80, 90, 100], \n",
    "                              labels=['0-20', '20-30', '30-40', '40-50','50-60','60-70','70-80', '80-90','90-100'])\n",
    "\n",
    "dummy_2017= dummy_2017.drop('ppage',axis = 1)\n",
    "print(dummy_2017.head())"
   ]
  },
  {
   "cell_type": "code",
   "execution_count": 38,
   "metadata": {},
   "outputs": [
    {
     "name": "stdout",
     "output_type": "stream",
     "text": [
      "                     S1                Q10               Q12  \\\n",
      "0  No, I am not Married                nan               nan   \n",
      "1     Yes, I am Married    Masters degree  Leans Republican   \n",
      "2     Yes, I am Married   Associate degree    Leans Democrat   \n",
      "3  No, I am not Married                nan               nan   \n",
      "4     Yes, I am Married  Bachelors degree   Strong Democrat   \n",
      "\n",
      "                                              w6_q32 age_bin  \n",
      "0  Yes, an Internet dating or matchmaking site (l...   20-30  \n",
      "1  No, I did NOT meet [Partner Name] through the ...   50-60  \n",
      "2  Yes, an Internet dating or matchmaking site (l...   40-50  \n",
      "3  Yes, a social networking site (like Facebook o...   20-30  \n",
      "4  No, I did NOT meet [Partner Name] through the ...   50-60  \n"
     ]
    }
   ],
   "source": [
    "dummy_2017 = dummy_2017.astype(str)\n",
    "\n",
    "dummy_2017_full=dummy_2017.replace(NaN,'unknown')\n",
    "\n",
    "print(dummy_2017.head())"
   ]
  },
  {
   "cell_type": "code",
   "execution_count": 39,
   "metadata": {},
   "outputs": [
    {
     "name": "stdout",
     "output_type": "stream",
     "text": [
      "                        S1                 Q10                          Q12  \\\n",
      "0     No, I am not Married             unknown                      unknown   \n",
      "1        Yes, I am Married     Masters degree             Leans Republican   \n",
      "2        Yes, I am Married    Associate degree               Leans Democrat   \n",
      "3     No, I am not Married             unknown                      unknown   \n",
      "4        Yes, I am Married   Bachelors degree              Strong Democrat   \n",
      "...                    ...                 ...                          ...   \n",
      "3505     Yes, I am Married   Bachelors degree               Leans Democrat   \n",
      "3506  No, I am not Married   Bachelors degree             Leans Republican   \n",
      "3507     Yes, I am Married   Bachelors degree               Leans Democrat   \n",
      "3508  No, I am not Married     Masters degree               Leans Democrat   \n",
      "3509  No, I am not Married  HS graduate or GED  Undecided/Independent/Other   \n",
      "\n",
      "                                                 w6_q32 age_bin  \n",
      "0     Yes, an Internet dating or matchmaking site (l...   20-30  \n",
      "1     No, I did NOT meet [Partner Name] through the ...   50-60  \n",
      "2     Yes, an Internet dating or matchmaking site (l...   40-50  \n",
      "3     Yes, a social networking site (like Facebook o...   20-30  \n",
      "4     No, I did NOT meet [Partner Name] through the ...   50-60  \n",
      "...                                                 ...     ...  \n",
      "3505    Yes, an app on my phone (like Tinder or Grindr)   20-30  \n",
      "3506    Yes, an app on my phone (like Tinder or Grindr)   20-30  \n",
      "3507    Yes, an app on my phone (like Tinder or Grindr)   40-50  \n",
      "3508  Yes, an Internet dating or matchmaking site (l...   30-40  \n",
      "3509  Yes, an Internet dating or matchmaking site (l...   40-50  \n",
      "\n",
      "[3510 rows x 5 columns]\n"
     ]
    }
   ],
   "source": [
    "dummy_2017_full=dummy_2017.replace('nan','unknown')\n",
    "\n",
    "dummy_2017_full_copy=dummy_2017_full\n",
    "\n",
    "print(dummy_2017_full)"
   ]
  },
  {
   "cell_type": "markdown",
   "metadata": {},
   "source": [
    "k mode"
   ]
  },
  {
   "cell_type": "code",
   "execution_count": 9,
   "metadata": {},
   "outputs": [
    {
     "name": "stdout",
     "output_type": "stream",
     "text": [
      "Collecting kmodes\n",
      "  Downloading kmodes-0.12.2-py2.py3-none-any.whl (20 kB)\n",
      "Collecting scikit-learn>=0.22.0\n",
      "  Downloading scikit_learn-1.1.3-cp38-cp38-manylinux_2_17_x86_64.manylinux2014_x86_64.whl (31.2 MB)\n",
      "\u001b[K     |████████████████████████████████| 31.2 MB 261 kB/s eta 0:00:01    |█▎                              | 1.2 MB 5.8 MB/s eta 0:00:06     |███████████████████████████▋    | 26.9 MB 9.4 MB/s eta 0:00:01\n",
      "\u001b[?25hRequirement already satisfied: numpy>=1.10.4 in /home/jack/.local/lib/python3.8/site-packages (from kmodes) (1.23.5)\n",
      "Requirement already satisfied: scipy>=0.13.3 in /home/jack/.local/lib/python3.8/site-packages (from kmodes) (1.9.3)\n",
      "Collecting joblib>=0.11\n",
      "  Downloading joblib-1.2.0-py3-none-any.whl (297 kB)\n",
      "\u001b[K     |████████████████████████████████| 297 kB 9.1 MB/s eta 0:00:01\n",
      "\u001b[?25hCollecting threadpoolctl>=2.0.0\n",
      "  Downloading threadpoolctl-3.1.0-py3-none-any.whl (14 kB)\n",
      "Installing collected packages: threadpoolctl, joblib, scikit-learn, kmodes\n",
      "Successfully installed joblib-1.2.0 kmodes-0.12.2 scikit-learn-1.1.3 threadpoolctl-3.1.0\n",
      "Note: you may need to restart the kernel to use updated packages.\n"
     ]
    }
   ],
   "source": [
    "pip install kmodes"
   ]
  },
  {
   "cell_type": "code",
   "execution_count": 40,
   "metadata": {},
   "outputs": [
    {
     "name": "stdout",
     "output_type": "stream",
     "text": [
      "Init: initializing centroids\n",
      "Init: initializing clusters\n",
      "Starting iterations...\n",
      "Run 1, iteration: 1/100, moves: 127, cost: 7771.0\n"
     ]
    }
   ],
   "source": [
    "from kmodes.kmodes import KModes\n",
    "\n",
    "\n",
    "\n",
    "km_cao = KModes(n_clusters=2, init = \"Cao\", n_init = 1, verbose=1)\n",
    "fitClusters_cao = km_cao.fit_predict(dummy_2017_full)\n",
    "\n",
    "fitClusters_cao\n",
    "\n",
    "\n",
    "\n",
    "clusterCentroidsDf = pd.DataFrame(km_cao.cluster_centroids_)\n",
    "clusterCentroidsDf.columns = dummy_2017_full.columns\n",
    "\n",
    "\n"
   ]
  },
  {
   "cell_type": "code",
   "execution_count": 41,
   "metadata": {},
   "outputs": [
    {
     "name": "stdout",
     "output_type": "stream",
     "text": [
      "Init: initializing centroids\n",
      "Init: initializing clusters\n",
      "Starting iterations...\n",
      "Run 1, iteration: 1/100, moves: 90, cost: 9939.0\n",
      "Init: initializing centroids\n",
      "Init: initializing clusters\n",
      "Starting iterations...\n",
      "Run 1, iteration: 1/100, moves: 0, cost: 10305.0\n",
      "Init: initializing centroids\n",
      "Init: initializing clusters\n",
      "Starting iterations...\n",
      "Run 1, iteration: 1/100, moves: 127, cost: 7771.0\n",
      "Init: initializing centroids\n",
      "Init: initializing clusters\n",
      "Starting iterations...\n",
      "Run 1, iteration: 1/100, moves: 143, cost: 6887.0\n",
      "Init: initializing centroids\n",
      "Init: initializing clusters\n",
      "Starting iterations...\n",
      "Run 1, iteration: 1/100, moves: 192, cost: 6546.0\n",
      "Init: initializing centroids\n",
      "Init: initializing clusters\n",
      "Starting iterations...\n",
      "Run 1, iteration: 1/100, moves: 0, cost: 6201.0\n",
      "Init: initializing centroids\n",
      "Init: initializing clusters\n",
      "Starting iterations...\n",
      "Run 1, iteration: 1/100, moves: 0, cost: 5922.0\n",
      "Init: initializing centroids\n",
      "Init: initializing clusters\n",
      "Starting iterations...\n",
      "Run 1, iteration: 1/100, moves: 0, cost: 5752.0\n",
      "Init: initializing centroids\n",
      "Init: initializing clusters\n",
      "Starting iterations...\n",
      "Run 1, iteration: 1/100, moves: 0, cost: 5599.0\n",
      "Init: initializing centroids\n",
      "Init: initializing clusters\n",
      "Starting iterations...\n",
      "Run 1, iteration: 1/100, moves: 0, cost: 5480.0\n"
     ]
    }
   ],
   "source": [
    "km_huang = KModes(n_clusters=2, init = \"Huang\", n_init = 1, verbose=1)\n",
    "fitClusters_huang = km_huang.fit_predict(dummy_2017_full)\n",
    "\n",
    "fitClusters_huang\n",
    "\n",
    "\n",
    "\n",
    "cost = []\n",
    "for num_clusters in list(range(1,10)):\n",
    "    kmode = KModes(n_clusters=num_clusters, init = \"Cao\", n_init = 1, verbose=1)\n",
    "    kmode.fit_predict(dummy_2017_full)\n",
    "    cost.append(kmode.cost_)\n",
    "\n"
   ]
  },
  {
   "cell_type": "code",
   "execution_count": 42,
   "metadata": {},
   "outputs": [
    {
     "data": {
      "text/plain": [
       "[<matplotlib.lines.Line2D at 0x7f050452ecd0>]"
      ]
     },
     "execution_count": 42,
     "metadata": {},
     "output_type": "execute_result"
    },
    {
     "data": {
      "image/png": "[encoded data removed]",
      "text/plain": [
       "<Figure size 640x480 with 1 Axes>"
      ]
     },
     "metadata": {},
     "output_type": "display_data"
    }
   ],
   "source": [
    "from matplotlib import pyplot as plt\n",
    "\n",
    "y = np.array([i for i in range(1,10,1)])\n",
    "plt.plot(y,cost)\n",
    "\n"
   ]
  },
  {
   "cell_type": "code",
   "execution_count": 67,
   "metadata": {},
   "outputs": [
    {
     "name": "stdout",
     "output_type": "stream",
     "text": [
      "Init: initializing centroids\n",
      "Init: initializing clusters\n",
      "Starting iterations...\n",
      "Run 1, iteration: 1/100, moves: 143, cost: 10394.0\n",
      "[['1' 'Yes, I am Married' 'HS graduate or GED'\n",
      "  'Undecided/Independent/Other'\n",
      "  'No, I did NOT meet [Partner Name] through the Internet' '50-60']\n",
      " ['0' 'No, I am not Married' 'unknown' 'unknown'\n",
      "  'No, I did NOT meet [Partner Name] through the Internet' '20-30']\n",
      " ['6' 'Yes, I am Married' 'Bachelor\\x92s degree' 'Strong Republican'\n",
      "  'No, I did NOT meet [Partner Name] through the Internet' '60-70']]\n"
     ]
    }
   ],
   "source": [
    "\n",
    "\n",
    "km_cao = KModes(n_clusters=3, init = \"Cao\", n_init = 1, verbose=1)\n",
    "fitClusters_cao = km_cao.fit_predict(dummy_2017_full)\n",
    "\n",
    "print(km_cao.cluster_centroids_)"
   ]
  },
  {
   "cell_type": "code",
   "execution_count": 65,
   "metadata": {},
   "outputs": [
    {
     "name": "stdout",
     "output_type": "stream",
     "text": [
      "[1 0 0 ... 2 1 0]\n"
     ]
    },
    {
     "data": {
      "text/plain": [
       "3510"
      ]
     },
     "execution_count": 65,
     "metadata": {},
     "output_type": "execute_result"
    }
   ],
   "source": [
    "fitClusters_cao\n",
    "print(fitClusters_cao)\n",
    "len(fitClusters_cao)\n",
    "# print(dummy_2017_full_copy)"
   ]
  },
  {
   "cell_type": "code",
   "execution_count": 44,
   "metadata": {},
   "outputs": [],
   "source": [
    "dummy_2017_full = dummy_2017_full_copy.reset_index()\n",
    "clustersDf = pd.DataFrame(fitClusters_cao)\n",
    "clustersDf.columns = ['cluster_predicted']\n",
    "combinedDf = pd.concat([dummy_2017_full, clustersDf], axis = 1).reset_index()\n",
    "combinedDf = combinedDf.drop(['index', 'level_0'], axis = 1)"
   ]
  },
  {
   "cell_type": "code",
   "execution_count": 45,
   "metadata": {},
   "outputs": [],
   "source": [
    "\n",
    "\n",
    "cluster_0 = combinedDf[combinedDf['cluster_predicted'] == 0]\n",
    "cluster_1 = combinedDf[combinedDf['cluster_predicted'] == 1]\n",
    "cluster_2 = combinedDf[combinedDf['cluster_predicted'] == 2]\n",
    "cluster_3 = combinedDf[combinedDf['cluster_predicted'] == 3]\n",
    "cluster_4 = combinedDf[combinedDf['cluster_predicted'] == 4]\n",
    "cluster_5 = combinedDf[combinedDf['cluster_predicted'] == 5]\n",
    "cluster_6 = combinedDf[combinedDf['cluster_predicted'] == 6]\n",
    "cluster_7 = combinedDf[combinedDf['cluster_predicted'] == 7]\n",
    "cluster_8 = combinedDf[combinedDf['cluster_predicted'] == 8]\n",
    "\n"
   ]
  },
  {
   "cell_type": "code",
   "execution_count": 48,
   "metadata": {},
   "outputs": [
    {
     "name": "stderr",
     "output_type": "stream",
     "text": [
      "1920.12s - pydevd: Sending message related to process being replaced timed-out after 5 seconds\n"
     ]
    },
    {
     "name": "stdout",
     "output_type": "stream",
     "text": [
      "Collecting seaborn\n",
      "  Downloading seaborn-0.12.1-py3-none-any.whl (288 kB)\n",
      "\u001b[K     |████████████████████████████████| 288 kB 4.0 MB/s eta 0:00:01\n",
      "\u001b[?25hRequirement already satisfied: numpy>=1.17 in /home/jack/.local/lib/python3.8/site-packages (from seaborn) (1.23.5)\n",
      "Requirement already satisfied: matplotlib!=3.6.1,>=3.1 in /home/jack/.local/lib/python3.8/site-packages (from seaborn) (3.6.2)\n",
      "Requirement already satisfied: pandas>=0.25 in /home/jack/.local/lib/python3.8/site-packages (from seaborn) (1.5.1)\n",
      "Requirement already satisfied: fonttools>=4.22.0 in /home/jack/.local/lib/python3.8/site-packages (from matplotlib!=3.6.1,>=3.1->seaborn) (4.38.0)\n",
      "Requirement already satisfied: pillow>=6.2.0 in /usr/lib/python3/dist-packages (from matplotlib!=3.6.1,>=3.1->seaborn) (7.0.0)\n",
      "Requirement already satisfied: packaging>=20.0 in /home/jack/.local/lib/python3.8/site-packages (from matplotlib!=3.6.1,>=3.1->seaborn) (21.3)\n",
      "Requirement already satisfied: pyparsing>=2.2.1 in /home/jack/.local/lib/python3.8/site-packages (from matplotlib!=3.6.1,>=3.1->seaborn) (3.0.9)\n",
      "Requirement already satisfied: contourpy>=1.0.1 in /home/jack/.local/lib/python3.8/site-packages (from matplotlib!=3.6.1,>=3.1->seaborn) (1.0.6)\n",
      "Requirement already satisfied: kiwisolver>=1.0.1 in /home/jack/.local/lib/python3.8/site-packages (from matplotlib!=3.6.1,>=3.1->seaborn) (1.4.4)\n",
      "Requirement already satisfied: python-dateutil>=2.7 in /home/jack/.local/lib/python3.8/site-packages (from matplotlib!=3.6.1,>=3.1->seaborn) (2.8.2)\n",
      "Requirement already satisfied: cycler>=0.10 in /home/jack/.local/lib/python3.8/site-packages (from matplotlib!=3.6.1,>=3.1->seaborn) (0.11.0)\n",
      "Requirement already satisfied: pytz>=2020.1 in /home/jack/.local/lib/python3.8/site-packages (from pandas>=0.25->seaborn) (2022.6)\n",
      "Requirement already satisfied: six>=1.5 in /usr/lib/python3/dist-packages (from python-dateutil>=2.7->matplotlib!=3.6.1,>=3.1->seaborn) (1.14.0)\n",
      "Installing collected packages: seaborn\n",
      "Successfully installed seaborn-0.12.1\n",
      "Note: you may need to restart the kernel to use updated packages.\n"
     ]
    }
   ],
   "source": [
    "pip install seaborn\n"
   ]
  },
  {
   "cell_type": "code",
   "execution_count": 49,
   "metadata": {},
   "outputs": [
    {
     "data": {
      "image/png": "[encoded data removed]",
      "text/plain": [
       "<Figure size 1500x500 with 1 Axes>"
      ]
     },
     "metadata": {},
     "output_type": "display_data"
    }
   ],
   "source": [
    "import seaborn as sns\n",
    "\n",
    "plt.subplots(figsize = (15,5))\n",
    "sns.countplot(x=combinedDf['S1'],order=combinedDf['S1'].value_counts().index,hue=combinedDf['cluster_predicted'])\n",
    "plt.show()"
   ]
  },
  {
   "cell_type": "code",
   "execution_count": 50,
   "metadata": {},
   "outputs": [
    {
     "name": "stderr",
     "output_type": "stream",
     "text": [
      "/home/jack/.local/lib/python3.8/site-packages/IPython/core/pylabtools.py:152: UserWarning: Glyph 146 (\\x92) missing from current font.\n",
      "  fig.canvas.print_figure(bytes_io, **kw)\n"
     ]
    },
    {
     "data": {
      "image/png": "[encoded data removed]",
      "text/plain": [
       "<Figure size 1500x500 with 1 Axes>"
      ]
     },
     "metadata": {},
     "output_type": "display_data"
    }
   ],
   "source": [
    "plt.subplots(figsize = (15,5))\n",
    "sns.countplot(x=combinedDf['Q10'],order=combinedDf['Q10'].value_counts().index,hue=combinedDf['cluster_predicted'])\n",
    "plt.show()"
   ]
  },
  {
   "cell_type": "code",
   "execution_count": 51,
   "metadata": {},
   "outputs": [
    {
     "data": {
      "image/png": "[encoded data removed]",
      "text/plain": [
       "<Figure size 1500x500 with 1 Axes>"
      ]
     },
     "metadata": {},
     "output_type": "display_data"
    }
   ],
   "source": [
    "plt.subplots(figsize = (15,5))\n",
    "sns.countplot(x=combinedDf['Q12'],order=combinedDf['Q12'].value_counts().index,hue=combinedDf['cluster_predicted'])\n",
    "plt.show()"
   ]
  },
  {
   "cell_type": "code",
   "execution_count": 58,
   "metadata": {},
   "outputs": [
    {
     "data": {
      "image/png": "[encoded data removed]",
      "text/plain": [
       "<Figure size 1500x500 with 1 Axes>"
      ]
     },
     "metadata": {},
     "output_type": "display_data"
    }
   ],
   "source": [
    "plt.subplots(figsize = (15,5))\n",
    "sns.countplot(x=combinedDf['age_bin'],hue=combinedDf['cluster_predicted'])\n",
    "plt.show()"
   ]
  },
  {
   "cell_type": "code",
   "execution_count": 53,
   "metadata": {},
   "outputs": [
    {
     "data": {
      "image/png": "[encoded data removed]",
      "text/plain": [
       "<Figure size 1500x500 with 1 Axes>"
      ]
     },
     "metadata": {},
     "output_type": "display_data"
    }
   ],
   "source": [
    "plt.subplots(figsize = (15,5))\n",
    "sns.countplot(x=combinedDf['w6_q32'],order=combinedDf['w6_q32'].value_counts().index,hue=combinedDf['cluster_predicted'])\n",
    "plt.show()"
   ]
  },
  {
   "cell_type": "code",
   "execution_count": 54,
   "metadata": {},
   "outputs": [
    {
     "name": "stdout",
     "output_type": "stream",
     "text": [
      "0       Yes, an Internet dating or matchmaking site (l...\n",
      "1       No, I did NOT meet [Partner Name] through the ...\n",
      "2       Yes, an Internet dating or matchmaking site (l...\n",
      "3       Yes, a social networking site (like Facebook o...\n",
      "4       No, I did NOT meet [Partner Name] through the ...\n",
      "                              ...                        \n",
      "3505      Yes, an app on my phone (like Tinder or Grindr)\n",
      "3506      Yes, an app on my phone (like Tinder or Grindr)\n",
      "3507      Yes, an app on my phone (like Tinder or Grindr)\n",
      "3508    Yes, an Internet dating or matchmaking site (l...\n",
      "3509    Yes, an Internet dating or matchmaking site (l...\n",
      "Name: w6_q32, Length: 3510, dtype: object\n"
     ]
    }
   ],
   "source": [
    "print(combinedDf['w6_q32'])"
   ]
  },
  {
   "cell_type": "code",
   "execution_count": 55,
   "metadata": {},
   "outputs": [
    {
     "name": "stdout",
     "output_type": "stream",
     "text": [
      "0       1\n",
      "1       0\n",
      "2       1\n",
      "3       1\n",
      "4       0\n",
      "       ..\n",
      "3505    1\n",
      "3506    1\n",
      "3507    1\n",
      "3508    1\n",
      "3509    1\n",
      "Name: app, Length: 3510, dtype: object\n"
     ]
    }
   ],
   "source": [
    "combinedDf['app'] = combinedDf['w6_q32'].replace(['Refused','No, I did NOT meet [Partner Name] through the Internet','Yes, a social networking site (like Facebook or Myspace)','Yes, an Internet dating or matchmaking site (like eHarmony or match.com)','Yes, an Internet classified advertising site (like Craigslist)','Yes, an Internet chat room','Yes, a different kind of Internet service','Yes, an app on my phone (like Tinder or Grindr)'], [0,0,1,1,1,1,1,1])\n",
    "\n",
    "print(combinedDf['app'])"
   ]
  },
  {
   "cell_type": "code",
   "execution_count": 56,
   "metadata": {},
   "outputs": [
    {
     "data": {
      "image/png": "[encoded data removed]",
      "text/plain": [
       "<Figure size 1500x500 with 1 Axes>"
      ]
     },
     "metadata": {},
     "output_type": "display_data"
    }
   ],
   "source": [
    "plt.subplots(figsize = (15,5))\n",
    "sns.countplot(x=combinedDf['app'],order=combinedDf['app'].value_counts().index,hue=combinedDf['cluster_predicted'])\n",
    "plt.show()"
   ]
  },
  {
   "cell_type": "markdown",
   "metadata": {},
   "source": [
    "check feature importance"
   ]
  },
  {
   "cell_type": "code",
   "execution_count": 114,
   "metadata": {},
   "outputs": [
    {
     "name": "stdout",
     "output_type": "stream",
     "text": [
      "0                                   [0, 0, 0, 0, 0, 0, 0]\n",
      "1           [0, 0, 0, 0, 0, 0, 0, 0, 0, 0, 0, 0, 0, 0, 0]\n",
      "2        [0, 0, 0, 0, 0, 0, 0, 0, 0, 0, 0, 0, 0, 0, 0, 0]\n",
      "3                                   [0, 0, 0, 0, 0, 0, 0]\n",
      "4       [0, 0, 0, 0, 0, 0, 0, 0, 0, 0, 0, 0, 0, 0, 0, ...\n",
      "                              ...                        \n",
      "3505    [0, 0, 0, 0, 0, 0, 0, 0, 0, 0, 0, 0, 0, 0, 0, ...\n",
      "3506    [0, 0, 0, 0, 0, 0, 0, 0, 0, 0, 0, 0, 0, 0, 0, ...\n",
      "3507    [0, 0, 0, 0, 0, 0, 0, 0, 0, 0, 0, 0, 0, 0, 0, ...\n",
      "3508        [0, 0, 0, 0, 0, 0, 0, 0, 0, 0, 0, 0, 0, 0, 0]\n",
      "3509    [0, 0, 0, 0, 0, 0, 0, 0, 0, 0, 0, 0, 0, 0, 0, ...\n",
      "Name: Q10, Length: 3510, dtype: object\n"
     ]
    }
   ],
   "source": [
    "combinedDf['Q10'] = combinedDf['Q10'].apply(lambda x: pd.factorize(x)[0])\n",
    "\n",
    "print(combinedDf['Q10'])"
   ]
  },
  {
   "cell_type": "code",
   "execution_count": 106,
   "metadata": {},
   "outputs": [
    {
     "name": "stdout",
     "output_type": "stream",
     "text": [
      "0                  unknown\n",
      "1          Masters degree\n",
      "2         Associate degree\n",
      "3                  unknown\n",
      "4        Bachelors degree\n",
      "               ...        \n",
      "3505     Bachelors degree\n",
      "3506     Bachelors degree\n",
      "3507     Bachelors degree\n",
      "3508       Masters degree\n",
      "3509    HS graduate or GED\n",
      "Name: Q10, Length: 3510, dtype: category\n",
      "Categories (16, object): ['10th grade', '11th grade', '12th grade no diploma', '1st-4th grade', ..., 'Professional or Doctorate degree', 'Refused', 'Some college, no degree', 'unknown']\n",
      "                     S1                Q10               Q12  \\\n",
      "0  No, I am not Married            unknown           unknown   \n",
      "1     Yes, I am Married    Masters degree  Leans Republican   \n",
      "2     Yes, I am Married   Associate degree    Leans Democrat   \n",
      "3  No, I am not Married            unknown           unknown   \n",
      "4     Yes, I am Married  Bachelors degree   Strong Democrat   \n",
      "\n",
      "                                              w6_q32 age_bin  \n",
      "0  Yes, an Internet dating or matchmaking site (l...   20-30  \n",
      "1  No, I did NOT meet [Partner Name] through the ...   50-60  \n",
      "2  Yes, an Internet dating or matchmaking site (l...   40-50  \n",
      "3  Yes, a social networking site (like Facebook o...   20-30  \n",
      "4  No, I did NOT meet [Partner Name] through the ...   50-60  \n",
      "[1 0 0 ... 2 1 0]\n"
     ]
    }
   ],
   "source": [
    "\n",
    "X=combinedDf.loc[:,['S1','Q10','Q12','w6_q32','age_bin']]\n",
    "X['S1']=X['S1'].astype('category')\n",
    "X['Q10']=X['Q10'].astype('category')\n",
    "X['Q12']=X['Q12'].astype('category')\n",
    "X['w6_q32']=X['w6_q32'].astype('category')\n",
    "X['age_bin']=X['age_bin'].astype('category')\n",
    "\n",
    "print(X['Q10'])\n",
    "y=combinedDf.loc[:,'cluster_predicted']\n",
    "y=y.values \n",
    "print(X.head())\n",
    "print(y)"
   ]
  },
  {
   "cell_type": "markdown",
   "metadata": {},
   "source": [
    "numeric"
   ]
  },
  {
   "cell_type": "code",
   "execution_count": 107,
   "metadata": {},
   "outputs": [],
   "source": [
    "X['Married'] = X['S1'].replace(['No, I am not Married','Yes, I am Married'], [0,1])\n",
    "X['App'] = X['w6_q32'].replace(['unknown','Refused','No, I did NOT meet [Partner Name] through the Internet','Yes, a social networking site (like Facebook or Myspace)','Yes, an Internet dating or matchmaking site (like eHarmony or match.com)','Yes, an Internet classified advertising site (like Craigslist)','Yes, an Internet chat room','Yes, a different kind of Internet service','Yes, an app on my phone (like Tinder or Grindr)'], [-2,-1,0,1,2,3,4,5,6])\n",
    "X['age_bin']=X['age_bin'].replace(['0-20', '20-30', '30-40', '40-50','50-60','60-70','70-80', '80-90','90-100'],[1,2,3,4,5,6,7,8,9])\n",
    "X['Q10']=X['Q10'].replace(['unknown','Refused','No formal education','1st-4th grade','5th or 6th grade','7th or 8th grade','9th grade','10th grade','11th grade',\n",
    "'12th grade no diploma','HS graduate or GED','Some college, no degree','Associate degree','Bachelors degree','Masters degree','Professional or Doctorate degree'],\n",
    "[-2,-1,1,2,3,4,5,6,7,8,9,10,11,12,13,14])\n",
    "X['Q12']=X['Q12'].replace(['unknown','Refused','Strong Republican','Not Strong Republican','Leans Republican','Undecided/Independent/Other',\n",
    "'Leans Democrat','Not Strong Democrat','Strong Democrat'],[-2,-1,1,2,3,4,5,6,7])\n",
    "\n",
    "\n",
    "\n",
    "X=X.loc[:,['Married','App','age_bin','Q10','Q12']]\n",
    "\n"
   ]
  },
  {
   "cell_type": "code",
   "execution_count": 111,
   "metadata": {},
   "outputs": [
    {
     "data": {
      "image/png": "[encoded data removed]",
      "text/plain": [
       "<Figure size 640x480 with 1 Axes>"
      ]
     },
     "metadata": {},
     "output_type": "display_data"
    }
   ],
   "source": [
    "from scipy.cluster.hierarchy import dendrogram\n",
    "from scipy.cluster.hierarchy import linkage\n",
    "from matplotlib import pyplot as plt\n",
    "\n",
    "Z = linkage(X,\n",
    "method='centroid',\n",
    "metric='euclidean')\n",
    "dn = dendrogram(Z)\n",
    "plt.show()"
   ]
  },
  {
   "cell_type": "code",
   "execution_count": 108,
   "metadata": {},
   "outputs": [
    {
     "data": {
      "text/plain": [
       "0       -2\n",
       "1       13\n",
       "2       11\n",
       "3       -2\n",
       "4       12\n",
       "        ..\n",
       "3505    12\n",
       "3506    12\n",
       "3507    12\n",
       "3508    13\n",
       "3509     9\n",
       "Name: Q10, Length: 3510, dtype: category\n",
       "Categories (16, int64): [6, 7, 8, 2, ..., 14, -1, 10, -2]"
      ]
     },
     "execution_count": 108,
     "metadata": {},
     "output_type": "execute_result"
    }
   ],
   "source": [
    "# print(X.describe())\n",
    "X['Q10']"
   ]
  },
  {
   "cell_type": "code",
   "execution_count": 109,
   "metadata": {},
   "outputs": [
    {
     "name": "stdout",
     "output_type": "stream",
     "text": [
      "0.9957264957264957\n"
     ]
    }
   ],
   "source": [
    "from sklearn.ensemble import RandomForestClassifier\n",
    "from sklearn.metrics import accuracy_score\n",
    "from sklearn.model_selection import train_test_split\n",
    "\n",
    "X_train, X_test, y_train, y_test = train_test_split(X, y, test_size=0.2)\n",
    "\n",
    "\n",
    "rf=RandomForestClassifier()\n",
    "\n",
    "rf.fit(X_train,y_train)\n",
    "print(accuracy_score(y_test, rf.predict(X_test)))\n"
   ]
  },
  {
   "cell_type": "code",
   "execution_count": 110,
   "metadata": {},
   "outputs": [
    {
     "name": "stdout",
     "output_type": "stream",
     "text": [
      "[0.20407683 0.01499118 0.21957987 0.30646438 0.25488775]\n"
     ]
    }
   ],
   "source": [
    "print(rf.feature_importances_)"
   ]
  },
  {
   "cell_type": "code",
   "execution_count": 6,
   "metadata": {},
   "outputs": [
    {
     "name": "stdout",
     "output_type": "stream",
     "text": [
      "   caseid_new           w4_xqualified w4_status w4_complete w4_source  \\\n",
      "0       22526    qualified for wave 4    Active         Yes   On-line   \n",
      "1       23286    qualified for wave 4    Active         Yes   On-line   \n",
      "2       25495  unqualified for wave 4       NaN         NaN       NaN   \n",
      "3       26315  unqualified for wave 4       NaN         NaN       NaN   \n",
      "4       27355  unqualified for wave 4       NaN         NaN       NaN   \n",
      "\n",
      "   w4_duration  w4_HCMST_interview_fin_yrmo w4_xtype  w4_xyear w4_xmonth  ...  \\\n",
      "0          3.0                     201303.0      NaN       NaN       NaN  ...   \n",
      "1          0.0                     201303.0      NaN       NaN       NaN  ...   \n",
      "2          NaN                          NaN      NaN       NaN       NaN  ...   \n",
      "3          NaN                          NaN      NaN       NaN       NaN  ...   \n",
      "4          NaN                          NaN      NaN       NaN       NaN  ...   \n",
      "\n",
      "  pp4_ppt25  pp4_ppt612  pp4_ppt1317 pp4_ppt18ov  \\\n",
      "0         0           0            0           2   \n",
      "1         0           0            0           2   \n",
      "2         0           0            0           3   \n",
      "3         0           0            0           1   \n",
      "4         0           0            0           2   \n",
      "\n",
      "                     pp4_ppwork pp4_ppnet pp4_ppcmdate_yrmo pp4_newer  \\\n",
      "0        Not working - disabled       Yes               NaN       Yes   \n",
      "1  Working - as a paid employee       Yes               NaN       Yes   \n",
      "2  Working - as a paid employee       Yes          201305.0       Yes   \n",
      "3  Working - as a paid employee       Yes          201309.0       Yes   \n",
      "4       Working - self-employed       Yes          201305.0       Yes   \n",
      "\n",
      "  ppa2009_services_yrmo ppa2009_how_often_services  \n",
      "0                   NaN                        NaN  \n",
      "1                   NaN                        NaN  \n",
      "2              200903.0      More than once a week  \n",
      "3              200903.0                      Never  \n",
      "4              200903.0         A few times a year  \n",
      "\n",
      "[5 rows x 62 columns]\n"
     ]
    }
   ],
   "source": [
    "import pandas as pd\n",
    "\n",
    "file4=pd.pandas.read_stata('wave_4_supplement_v1_2.dta')\n",
    "print(file4.head())"
   ]
  },
  {
   "cell_type": "markdown",
   "metadata": {},
   "source": [
    "2009"
   ]
  },
  {
   "cell_type": "code",
   "execution_count": 9,
   "metadata": {},
   "outputs": [
    {
     "name": "stdout",
     "output_type": "stream",
     "text": [
      "   caseid_new  weight1  weight2 ppage ppagecat ppagect4  \\\n",
      "0       22526     4265   4265.0    52    45-54    45-59   \n",
      "1       23286    16485  16485.0    28    25-34    18-29   \n",
      "2       25495    52464      NaN    49    45-54    45-59   \n",
      "3       26315     4575   4575.0    31    25-34    30-44   \n",
      "4       27355    12147      NaN    35    35-44    30-44   \n",
      "\n",
      "                                              ppeduc  \\\n",
      "0                                   bachelors degree   \n",
      "1                                     masters degree   \n",
      "2  high school graduate - high school diploma or ...   \n",
      "3                                   associate degree   \n",
      "4  high school graduate - high school diploma or ...   \n",
      "\n",
      "                      ppeducat               ppethm ppgender  ...  \\\n",
      "0  bachelor's degree or higher             hispanic   female  ...   \n",
      "1  bachelor's degree or higher  white, non-hispanic   female  ...   \n",
      "2                  high school  black, non-hispanic   female  ...   \n",
      "3                 some college  white, non-hispanic     male  ...   \n",
      "4                  high school  white, non-hispanic     male  ...   \n",
      "\n",
      "  w3_mbtiming_year  w3_mbtiming_month w3_q5 w3_q6                       w3_q7  \\\n",
      "0              NaN                NaN   yes   yes  no, did not marry [xNameP]   \n",
      "1              NaN                NaN   NaN   NaN                         NaN   \n",
      "2              NaN                NaN   NaN   NaN                         NaN   \n",
      "3              NaN                NaN   NaN   NaN                         NaN   \n",
      "4              NaN                NaN   NaN   NaN                         NaN   \n",
      "\n",
      "                                               w3_q8 w3_q9 w3_q10  \\\n",
      "0  No, we have not gotten a domestic partnership ...   NaN    NaN   \n",
      "1                                                NaN   NaN    NaN   \n",
      "2                                                NaN   NaN    NaN   \n",
      "3                                                NaN   NaN    NaN   \n",
      "4                                                NaN   NaN    NaN   \n",
      "\n",
      "  w3_nonmbtiming_year w3_nonmbtiming_month  \n",
      "0                 NaN                  NaN  \n",
      "1                 NaN                  NaN  \n",
      "2                 NaN                  NaN  \n",
      "3                 NaN                  NaN  \n",
      "4                 NaN                  NaN  \n",
      "\n",
      "[5 rows x 387 columns]\n"
     ]
    }
   ],
   "source": [
    "import pandas as pd\n",
    "\n",
    "file2009=pd.pandas.read_stata('HCMST_ver_3.04.dta')\n",
    "print(file2009.head())\n",
    "\n"
   ]
  },
  {
   "cell_type": "markdown",
   "metadata": {},
   "source": [
    "explore 2009"
   ]
  },
  {
   "cell_type": "code",
   "execution_count": 10,
   "metadata": {},
   "outputs": [
    {
     "name": "stdout",
     "output_type": "stream",
     "text": [
      "         caseid_new        weight1        weight2  pphouseholdsize  \\\n",
      "count  4.002000e+03    4002.000000    3009.000000      4002.000000   \n",
      "mean   2.285675e+06   56424.619690   56502.959787         2.578461   \n",
      "std    1.341961e+06   49248.983612   49138.848705         1.491110   \n",
      "min    2.252600e+04     522.000000     522.000000         1.000000   \n",
      "25%    1.114896e+06   20025.250000   22455.000000         2.000000   \n",
      "50%    2.273181e+06   49370.500000   49016.000000         2.000000   \n",
      "75%    3.438308e+06   74526.250000   73527.000000         3.000000   \n",
      "max    4.628251e+06  264379.000000  264379.000000        15.000000   \n",
      "\n",
      "               hhinc  children_in_hh  ppppcmdate_yrmo  pppadate_yrmo  \\\n",
      "count    4002.000000     4002.000000      4002.000000    4002.000000   \n",
      "mean    63239.316406        0.403798    200725.921875  200720.953125   \n",
      "std     44225.281250        0.849521        43.178410      43.323708   \n",
      "min      2500.000000        0.000000    200306.000000  200505.000000   \n",
      "25%     32250.000000        0.000000    200710.000000  200709.000000   \n",
      "50%     55000.000000        0.000000    200711.000000  200709.000000   \n",
      "75%     80000.000000        0.000000    200712.000000  200711.000000   \n",
      "max    200000.000000        7.000000    200903.000000  200810.000000   \n",
      "\n",
      "       pphhcomp11_member2_age  pphhcomp11_member3_age  ...  \\\n",
      "count             2962.000000             1531.000000  ...   \n",
      "mean                44.247806               22.414762  ...   \n",
      "std                 17.052080               19.725164  ...   \n",
      "min                  0.000000                0.000000  ...   \n",
      "25%                 31.000000                8.000000  ...   \n",
      "50%                 44.000000               16.000000  ...   \n",
      "75%                 56.000000               32.000000  ...   \n",
      "max                 93.000000               93.000000  ...   \n",
      "\n",
      "       w2_HCMST_interview_fin_yrmo   w2_duration  w2_days_elapsed  \\\n",
      "count                  2520.000000   2520.000000      2520.000000   \n",
      "mean                 201003.218750    106.990873       390.242857   \n",
      "std                       0.593961   1894.305091        20.206372   \n",
      "min                  201003.000000      0.000000       348.000000   \n",
      "25%                  201003.000000      0.000000       386.000000   \n",
      "50%                  201003.000000      0.000000       389.000000   \n",
      "75%                  201003.000000      1.000000       392.000000   \n",
      "max                  201006.000000  65215.000000       471.000000   \n",
      "\n",
      "       pp3_ppcmdate_yrmo  pp3_respondent_yrsed     w3_xyear    w3_xmonth  \\\n",
      "count         2644.00000           2644.000000  2689.000000  2689.000000   \n",
      "mean        201089.37500             14.194024  2009.829676     3.088137   \n",
      "std             37.76857              2.524640     0.375987     0.662593   \n",
      "min         201003.00000              0.000000  2009.000000     2.000000   \n",
      "25%         201106.00000             12.000000  2010.000000     3.000000   \n",
      "50%         201107.00000             13.500000  2010.000000     3.000000   \n",
      "75%         201107.00000             16.000000  2010.000000     3.000000   \n",
      "max         201109.00000             20.000000  2010.000000     6.000000   \n",
      "\n",
      "       w3_HCMST_interview_fin_yrmo  w3_days_elapsed    w3_duration  \n",
      "count                  1960.000000      1960.000000    1960.000000  \n",
      "mean                 201104.359375       783.117857     992.889286  \n",
      "std                       0.805355        28.789087    8459.122745  \n",
      "min                  201103.000000       724.000000       0.000000  \n",
      "25%                  201104.000000       772.000000       0.000000  \n",
      "50%                  201104.000000       774.000000       0.000000  \n",
      "75%                  201104.000000       791.000000       1.000000  \n",
      "max                  201108.000000       918.000000  174369.000000  \n",
      "\n",
      "[8 rows x 61 columns]\n"
     ]
    }
   ],
   "source": [
    "print(file2009.describe())"
   ]
  }
 ],
 "metadata": {
  "kernelspec": {
   "display_name": "Python 3.8.10 64-bit",
   "language": "python",
   "name": "python3"
  },
  "language_info": {
   "codemirror_mode": {
    "name": "ipython",
    "version": 3
   },
   "file_extension": ".py",
   "mimetype": "text/x-python",
   "name": "python",
   "nbconvert_exporter": "python",
   "pygments_lexer": "ipython3",
   "version": "3.8.10"
  },
  "orig_nbformat": 4,
  "vscode": {
   "interpreter": {
    "hash": "916dbcbb3f70747c44a77c7bcd40155683ae19c65e1c03b4aa3499c5328201f1"
   }
  }
 },
 "nbformat": 4,
 "nbformat_minor": 2
}
